{
 "cells": [
  {
   "cell_type": "code",
   "execution_count": 3,
   "metadata": {},
   "outputs": [
    {
     "data": {
      "text/plain": [
       "'Detailed roadmap to became professional.'"
      ]
     },
     "execution_count": 3,
     "metadata": {},
     "output_type": "execute_result"
    }
   ],
   "source": [
    "\"\"\"Detailed roadmap to became professional.\"\"\""
   ]
  },
  {
   "cell_type": "markdown",
   "metadata": {},
   "source": [
    "- Демидович \n",
    "- Calculus(https://t.me/c/1937296927/888/22444)\n",
    "- 1)5.18,5.20,5.22,5.23-5.25,(5.28-5.60 только четные)"
   ]
  },
  {
   "cell_type": "markdown",
   "metadata": {},
   "source": [
    "\n",
    "\n",
    "#### `Проверка линтером файлов:`\n",
    "1. pre-commit run --all-files\n",
    "2. Pylint https://pylint.pycqa.org\n",
    "3. Pydocstyle https://docs.astral.sh/ruff/rules/#pydocstyle-d\n",
    "4. Flake8 https://flake8.pycqa.org/en/latest/index.html\n",
    "5. Mypy https://mypy.readthedocs.io/en/stable/cheat_sheet_py3.html#variables\n",
    "\n"
   ]
  },
  {
   "cell_type": "markdown",
   "metadata": {},
   "source": [
    "\n",
    "#### `Python:`\n",
    "1. https://t.me/c/1937296927/1/16676 \n",
    "* Прочитать только 85-95стр и перейти к пункту 2, ПОСЛЕ ТОГО как пройдёте в пункте 2 тему \"функции\" в книге \"python это просто\", можете вернуться к пункту 1 и делать 2 книги параллельно\n",
    "\n",
    "* ВНИМАНИЕ! остальные страницы c 1 по 286. конспектируем ТЕЗИСНО в:\n",
    "(Python/clean-code/номер_главы_название_главы.ipynb / example: сhapter_1_error_processing.ipynb)\n",
    "\n",
    "* визуализатор python https://pythontutor.com/ (применяем начиная с циклов или функций, чтобы понимать как работает интерпритатор)\n",
    "\n",
    "2. ВНИМАНИЕ пушим дополнительно на kaggle книгу питон это просто https://www.kaggle.com/, инструкция https://t.me/c/1937296927/1111/22333 https://t.me/c/1937296927/1/20759 - python это просто,   (СКИПАЕМ главы 7,9,10,14, к 9 главе вернись после всего), \n",
    "* Практические задания в 1 главе 1.5.3 (пункты 1-5 используем псевдокод)\n",
    "* Переписываем ВСЮ КНИГУ в файлы разбитые на главы в Python/made-easy/ ДОЛЖНО БЫТЬ КАК ЗДЕСЬ(https://github.com/nilabhnishchhal/Python-Made-Easy)\n",
    "* Используем статическую типизация/mypy при создании переменных(https://mypy.readthedocs.io/en/stable/cheat_sheet_py3.html#variables)\n",
    "* в конце каждой главы ОБЯЗАТЕЛЬНО отвечаем на вопросы(подглядеть ответы можно на 409стр)\n",
    "ответы на вопросы вставляем в маркдаун\n",
    "туда же вставляем картинки, их можно рисовать в пейнте\n",
    "* когда дойдёте до стр 227-245, обязательно сначала, делаем это https://t.me/c/1937296927/1/12260 (первые 6 видео) код пишем сюда Python/oop.ipynb (дойти до создания объектов включительно),\n",
    "* доп материал по ооп - https://t.me/c/1937296927/1/14973 и https://www.dmitrymakarov.ru/python/oop-12/\n",
    "* `Руководство Markdown https://t.me/c/1937296927/832/19307, https://github.com/adam-p/markdown-here/wiki/Markdown-Cheatsheet`\n",
    "* Сайт для создания блок схем, понадобится для ответов на вопросы из книги в пункте \n",
    "2 https://programforyou.ru/block-diagram-redactor\n",
    "3. Практический курс по питону https://stepik.org/course/63085/promo(опционально)\n"
   ]
  },
  {
   "cell_type": "markdown",
   "metadata": {},
   "source": [
    "\n",
    "#### `Аналитика данных на pandas:`\n",
    "\n",
    "1. https://edu.sirius.online/#/course/1750 (проходи если открыт)\n",
    "2. https://stepik.org/course/74457/syllabus\n",
    "3. https://stepik.org/course/3356/syllabus начать с секции (6. Неделя 2 - Векторы, Матрицы)\n",
    "4. https://www.kaggle.com/learn/pandas\n",
    "5. https://www.freecodecamp.org/learn/data-analysis-with-python/\n",
    "6. https://stepik.org/course/4852/syllabus (только введение)\n",
    "\n",
    "Практика В PANDAS: https://leetcode.com/problemset/pandas/?sorting=W3sic29ydE9yZGVyIjoiQVNDRU5ESU5HIiwib3JkZXJCeSI6IkRJRkZJQ1VMVFkifV0%3D\n",
    "\n",
    "* одна задача в день\n",
    "https://leetcode.com/studyplan/introduction-to-pandas/\n",
    "\n",
    "* когда закончишь начни\n",
    "https://leetcode.com/studyplan/30-days-of-pandas/\n"
   ]
  },
  {
   "cell_type": "markdown",
   "metadata": {},
   "source": [
    "\n",
    "#### `Data Cleaning(Regex):`\n",
    "1. https://leetcode.com/tag/string-matching/ выполнить изи и попробуй мидл\n",
    "\n",
    "2. получить сертификат:  https://stepik.org/course/49442\n",
    "* https://www.datacamp.com/tutorial/data-preparation-with-pandas\n",
    "* https://www.w3schools.com/python/pandas/pandas_cleaning_wrong_data.asp\n",
    "\n",
    "3. https://machinelearningtutorials.org/tutorial-using-pandas-with-regular-expressions-regex/ повторить в ноутбуке\n",
    "4. https://kanoki.org/2019/11/12/how-to-use-regex-in-pandas/ повторить в ноутбуке\n",
    "5. https://www.geeksforgeeks.org/replace-values-in-pandas-dataframe-using-regex/ повторить в ноутбуке\n",
    "6. https://www.kaggle.com/learn/data-cleaning\n",
    "7. https://www.dataquest.io/blog/regular-expressions-data-scientists/ повторить в ноутбуке\n",
    "\n"
   ]
  },
  {
   "cell_type": "markdown",
   "metadata": {},
   "source": [
    "\n",
    "#### `Data Visual:`\n",
    "1. https://www.kaggle.com/learn/data-visualization\n",
    "2. https://www.kaggle.com/code/prashant111/matplotlib-tutorial-for-beginners\n",
    "3. https://www.kaggle.com/code/kanncaa1/seaborn-tutorial-for-beginners\n",
    "4. https://www.kaggle.com/code/kanncaa1/plotly-tutorial-for-beginners (опционально)\n",
    "5. https://t.me/c/1937296927/832/14284 (rus) прочитать\n",
    "6. Tableau https://stepik.org/course/56280/syllabus\n",
    "\n"
   ]
  },
  {
   "cell_type": "markdown",
   "metadata": {},
   "source": [
    "\n",
    "#### `SQL:`\n",
    "1. https://karpov.courses/simulator-sql\n",
    "* https://sql-ex.ru/register.php?Lang=0\n",
    "* https://sql-ex.ru/learn_exercises.php\n",
    "* http://sql-tutorial.ru/ru/book_exercise_1.html - ответы\n",
    "* http://sql-tutorial.ru/ru/book_computers_database.html - схема БД\n",
    "\n",
    "3. https://www.kaggle.com/learn/intro-to-sql\n",
    "4. https://www.kaggle.com/learn/advanced-sql\n",
    "5. https://stepik.org/course/63054/syllabus\n",
    "6. https://stepik.org/course/3203/syllabus\n",
    "7. https://sql-academy.org/ru/trainer/tasks/1\n"
   ]
  },
  {
   "cell_type": "markdown",
   "metadata": {},
   "source": [
    "\n",
    "#### `Практика:`\n",
    "1. https://t.me/c/1937296927/ прочитать\n",
    "* https://t.me/c/1937296927/832/13290 прочитать\n",
    "* https://education.yandex.ru/handbook/data-analysis\n",
    "* https://t.me/c/1937296927/832/16118, берём отсюда ссылки на kaggle и проводим EDA анализ.\n",
    "3. https://contest.yandex.ru/contest/28416/enter - contecst по аналитике(опционально)\n",
    "4. https://education.yandex.ru/journal/kak-provesti-a-b-testirovanie-6-prostykh-shagov - A/B(справочник):\n",
    "\n",
    "##### Algorithms(опционально):\n",
    "1. https://yandex.ru/yaintern/algorithm-training\n",
    "2. https://habr.com/ru/companies/yandex/articles/449890/\n",
    "\n",
    "##### Алгоритмы (выполнить):\n",
    "1. https://codeforces.com/problemset/problem/4/A\n",
    "2. https://leetcode.com/problems/palindrome-number/\n",
    "3. https://t.me/SenatorovBootcamp/766/8001  переписать в тетрадь и выписать 55стр до 70\n",
    "\n",
    "\n",
    "* https://codeforces.com/problemset?order=BY_RATING_ASC&tags=math - одна задача в день(всего 30 задач):\n",
    "\n",
    "копируешь с каждой странице по 1 решению:\n",
    "первая страница https://codeforces.com/problemset/status/4/problem/A\n",
    "середина https://codeforces.com/problemset/status/4/problem/A/page/600?order=BY_PROGRAM_LENGTH_ASC\n",
    "последняя https://codeforces.com/problemset/status/4/problem/A/page/1356?order=BY_PROGRAM_LENGTH_ASC\n",
    "\n",
    "и вставляешь себе в алгоритмы Algorithms\\codeforces.ipynb, потом проводишь разбор кода\n",
    "и так дальше по другим задачам.\n"
   ]
  },
  {
   "cell_type": "markdown",
   "metadata": {},
   "source": [
    "\n",
    "#### `Computer Science:`\n",
    "1) компьютер сайнс пройти курс https://learn.epam.com/detailsPage?id=07464fe7-306f-4aa2-abdb-fb81ba509124\n",
    "2) посмотреть видео https://www.youtube.com/watch?v=Wh22_O8jXVQ&list=PLIJLLSrXDPojDGKW0WZ7sU0eO3nyn0oDc\n",
    "\n"
   ]
  },
  {
   "cell_type": "markdown",
   "metadata": {},
   "source": [
    "\n",
    "#### `Math(school):`\n",
    "1. Пройти все разделы которые непонятны https://mathter.pro/pesochnica/index.html (фото конспекта скинуть в папку math/school_math/, в формате pdf)\n",
    "* Каждую тему в Емелине обязательно найти эту же тему в книге Битнер пункт 2 и дополнительно прорешать.\n",
    "* Если чуствуешь что нужна ещё практика, то открываешь учебник Крамор пункт 2 и прорешиваешь такую же тему там.\n",
    "2. Экспресс курс по школьной математике, 2 лучших учебника \\Math\\school_theory\n",
    "3. Когда пройдёшь все темы в Емелине, добей остальные темы в книге Битнер\n",
    "\n"
   ]
  },
  {
   "cell_type": "markdown",
   "metadata": {},
   "source": [
    "\n",
    "#### `Linal:`\n",
    "\n",
    "1) теория, векторная алгебра https://t.me/c/1937296927/888/8330\n",
    "* теория для чайников векторная алгебра https://mathter.pro/angem/index.html сделать до 1.10.3 (фото конспекта скинуть в папку math/anal_geom/, в формате pdf)\n",
    "2) теория, линейная алгебра http://old.inm.ras.ru/library/Tyrtyshnikov/all.pdf\n",
    "*  теория для чайников линейная алгебра https://mathter.pro/algebra/index.html\n",
    "3) практика векторная алгебра(numpy) https://stepik.org/course/172781/syllabus\n",
    "4) практика векторная алгебра(numpy) https://stepik.org/course/4940/promo\n",
    "5) карпов https://lab.karpov.courses/learning/253/module/2697/\n",
    "6) форкнуть и проработать каждую строку https://www.kaggle.com/code/sokolovaleks/100-numpy-exercises-rus-version\n",
    "7) практика векторная алгебра (EN) https://stepik.org/course/79/syllabus\n",
    "\n"
   ]
  },
  {
   "cell_type": "markdown",
   "metadata": {},
   "source": [
    "\n",
    "#### `Youtube:`\n",
    "1. линал для чайников https://www.youtube.com/playlist?list=PLVjLpKXnAGLXPaS7FRBjd5yZeXwJxZil2\n",
    "1. линал в matlab https://www.youtube.com/playlist?list=PLmu_y3-DV2_kkWhk2mK0opp7ma8mSS3xf\n"
   ]
  },
  {
   "cell_type": "markdown",
   "metadata": {},
   "source": [
    "\n",
    "#### `Calculus:`\n",
    "\n",
    "Теория(книга - для хардкорщиков):\n",
    "https://vk.com/doc297168001_651784102\n"
   ]
  },
  {
   "cell_type": "markdown",
   "metadata": {},
   "source": [
    "\n",
    "#### `Practice:`\n",
    "1. https://www.lektorium.tv/matematicheskij-analiz (прочитать весь \"Список теоретических материалов\"(под видео) и выписать в тетрадь все ПРИМЕРЫ И РЕШЕНИЯ), пройти ДО дифуров!\n",
    "конспект сохраняешь в \\Math\\calculus\\lektorium\\topic_name.pdf  topic_name - название темы\n",
    "* доп курс выполнять параллельно с https://edu.sirius.online/#/course/1788\n",
    "\n",
    "При выполнении 1  обязательно опираться на эти 2 плейлиста:\n",
    "* Теория+практика видео: https://www.youtube.com/watch?v=zkTFyZVav-s&list=PLGtfmJuN1mTD2ND-zeBWHv3ACO5J0G9DR\n",
    "* Теория+практика видео: https://www.youtube.com/watch?v=ZAiDxlBCW28&list=PLCx14LDfH033RANLVFVAdFIxFHhy1VXHr\n",
    "\n",
    "2) На каждую тему из 1 переписать минимум по 3 решения из Math\\calculus\\theory\\Anti-Demidovich (Lyashko I.I., i dr.). Tom 1.pdf\n",
    "\n",
    "3) переписать все примеры отсюда \\Math\\calculus\\theory\\Пределы_решения\n",
    "Свой конспект сохранить в каждой папке limit.pdf\n",
    "\n"
   ]
  },
  {
   "cell_type": "markdown",
   "metadata": {},
   "source": [
    "\n",
    "\n",
    "#### `Итоговый контроль:`\n",
    "1. скачать https://t.me/c/1937296927/888/11888\n",
    "* Изучить критерий Коши, на 28 странице(задачник)\n",
    "* выполнить 5.231 - 5.245 в тетради,\n",
    "* конспект загрузить в \\Math\\calculus\\5.231_5.245\\limit.pdf\n",
    "* так же сделай первые 3 примера из конспекта в sympy https://t.me/c/1937296927/13078\n",
    "сохраняешь в \\Math\\calculus\\5.231_5.245\\sympy.ipynb\n",
    "2. выполнить только чётные 5.272-5.286\n",
    "к.нспект загрузить в \\Math\\calculus\\5.272-5.286\\limit.pdf\n",
    "3. Выполнить только чётные 5.288-5.333\n",
    "к.нспект загрузить в \\Math\\calculus\\5.288-5.333\\limit.pdf\n",
    "4. Начать читать 35стр непрерывность функции\n",
    "\n",
    "Понимать и знать итоговые темы отсюда \\Math\\calculus\\theory\\Экзаменационный контроль\n",
    "\n"
   ]
  },
  {
   "cell_type": "markdown",
   "metadata": {},
   "source": [
    "\n",
    "\n",
    "#### `Архив:`\n",
    "\n",
    "VSCODE(установить плагины):\n",
    "1. ms-python.pylint\n",
    "2. ms-python.flake8\n",
    "3. ms-python.mypy-type-checker\n",
    "4. matangover.mypy\n",
    "5. ms-pyright.pyright\n",
    "6. ms-python.black-formatter\n",
    "7. njpwerner.autodocstring\n",
    "8. njqdev.vscode-python-typehint\n",
    "9. KevinRose.vsc-python-indent\n",
    "10. mintlify.document\n",
    "11. streetsidesoftware.code-spell-checker\n",
    "12. eamodio.gitlens\n",
    "13. ms-toolsai.jupyter\n",
    "14. ms-vsliveshare.vsliveshare\n",
    "15. streetsidesoftware.code-spell-checker-russian\n",
    "\n",
    "\n",
    "#### `Git:`\n",
    "1. подписаться на коллег https://github.com/orgs/SENATOROVAI/teams/\n",
    "senatorov-team\n",
    "2. оформить гитхаб https://www.youtube.com/watch?v=pm17VwdJ6UI\n",
    "3. выбор шаблона https://github.com/abhisheknaiidu/awesome-github-profile-readme\n",
    "4. https://t.me/c/1937296927/3602/5714 (опционально)\n",
    "\n",
    "\n",
    "#### `Python:`\n",
    "\n",
    "\n"
   ]
  }
 ],
 "metadata": {
  "kernelspec": {
   "display_name": "base",
   "language": "python",
   "name": "python3"
  },
  "language_info": {
   "codemirror_mode": {
    "name": "ipython",
    "version": 3
   },
   "file_extension": ".py",
   "mimetype": "text/x-python",
   "name": "python",
   "nbconvert_exporter": "python",
   "pygments_lexer": "ipython3",
   "version": "3.10.9"
  }
 },
 "nbformat": 4,
 "nbformat_minor": 2
}
