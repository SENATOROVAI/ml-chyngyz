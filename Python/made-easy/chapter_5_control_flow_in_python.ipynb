{
 "cells": [
  {
   "cell_type": "code",
   "execution_count": 21,
   "metadata": {},
   "outputs": [
    {
     "data": {
      "text/plain": [
       "'Chapter 5 Control Flow Statement.'"
      ]
     },
     "execution_count": 21,
     "metadata": {},
     "output_type": "execute_result"
    }
   ],
   "source": [
    "\"\"\"Chapter 5 Control Flow Statement.\"\"\""
   ]
  },
  {
   "cell_type": "markdown",
   "metadata": {},
   "source": [
    "# Control Flow Statement"
   ]
  },
  {
   "cell_type": "markdown",
   "metadata": {},
   "source": [
    "Control Flow Tools - code execute in the order in which it was written.\n",
    "\n",
    "What if we want to change or alter the flow?\n",
    "\n"
   ]
  },
  {
   "cell_type": "markdown",
   "metadata": {},
   "source": [
    "![Control-Flow-Tool](img/control_flow.png)\n"
   ]
  },
  {
   "cell_type": "markdown",
   "metadata": {},
   "source": [
    "### IF Operator\n",
    "\n",
    "\n",
    "If condition followed by a colon. The code block of `if` statement comes in the next line, and it must be `indented`. The indentation tells python, that this block of code is for the if statement.\n",
    "\n",
    "`if condition:`\n",
    "* ` do work`\n",
    "\n",
    "`end if`\n",
    "\n",
    "The last line, end if is not written. The statement ends itself. You will see that in the example coming below"
   ]
  },
  {
   "cell_type": "markdown",
   "metadata": {},
   "source": [
    "![if-statement-flow-chart](img/if_statement_chart.png)"
   ]
  },
  {
   "cell_type": "markdown",
   "metadata": {},
   "source": [
    "### IF-Else \n",
    "\n",
    "The if statement is used to check a condition: if the condition is true, we run a block of statements (called the if-block), else we process another block of statements (called the else-block).\n"
   ]
  },
  {
   "cell_type": "markdown",
   "metadata": {},
   "source": [
    "### IF – Elif – Else \n",
    "\n",
    "Statement It's evident from the name itself, elif is combination of else and if."
   ]
  },
  {
   "cell_type": "markdown",
   "metadata": {},
   "source": [
    "![if-elif-flow-chart](img/if_elif.png)"
   ]
  },
  {
   "cell_type": "markdown",
   "metadata": {},
   "source": [
    "There can be zero or more elif parts, and the else part is optional. The keyword ‘elif’ is short for ‘else if’, and is useful to avoid excessive indentation.\n",
    "\n",
    "The elif and else statements must also have a colon at the end of\n",
    "the logical line followed by their corresponding block of statements.\n",
    "\n",
    "You can have another if statement inside the if-block of an if statement and so on - this is called a nested if statement.\n"
   ]
  },
  {
   "cell_type": "markdown",
   "metadata": {},
   "source": [
    "### For (loop) operator\n",
    "\n",
    "\n",
    "The for statement in Python iterates over the items of any sequence (a list or a string), in the order that they appear in the sequence.\n",
    "\n",
    "`Iteration means the repetition of a process or utterance.`"
   ]
  },
  {
   "cell_type": "markdown",
   "metadata": {},
   "source": [
    "![for-loop-chart](img/for_loop.png)"
   ]
  },
  {
   "cell_type": "code",
   "execution_count": null,
   "metadata": {},
   "outputs": [
    {
     "name": "stdout",
     "output_type": "stream",
     "text": [
      "cat 3\n",
      "window 6\n",
      "defenestrate 12\n"
     ]
    }
   ],
   "source": [
    "words: list[str] = [\"cat\", \"window\", \"defenestrate\"]\n",
    "\n",
    "for w_ in words:\n",
    "    print(w_, len(w_))"
   ]
  },
  {
   "cell_type": "markdown",
   "metadata": {},
   "source": [
    "Here, in the statement, for w in words: , w is just a notation, and doesn't have a meaning of the original alphabet. What it means is, you\n",
    "may write, anything there. \n",
    "\n",
    "So it is essentially\n",
    "\n",
    "for **`variable`** in **`sequence`**: take action\n"
   ]
  },
  {
   "cell_type": "markdown",
   "metadata": {},
   "source": [
    "### For loop with else\n",
    "\n",
    "A for loop can have an optional else block as well. The else part is  executed when the items in the sequence used in for loop exhausts."
   ]
  },
  {
   "cell_type": "markdown",
   "metadata": {},
   "source": [
    "![for-loop-chart](img/for_else.png)"
   ]
  },
  {
   "cell_type": "code",
   "execution_count": 3,
   "metadata": {},
   "outputs": [
    {
     "name": "stdout",
     "output_type": "stream",
     "text": [
      "1\n",
      "2\n",
      "3\n",
      "4\n",
      "5\n",
      "this is end of the code\n"
     ]
    }
   ],
   "source": [
    "numbers: list[int] = [1, 2, 3, 4, 5]\n",
    "\n",
    "for i in numbers:\n",
    "    print(i)\n",
    "\n",
    "print(\"this is end of the code\")"
   ]
  },
  {
   "cell_type": "markdown",
   "metadata": {},
   "source": [
    "### The `range()` Function\n",
    "\n",
    "\n",
    "If you do need to iterate over a sequence of numbers, the built-in function range() comes in handy. It generates arithmetic progressions"
   ]
  },
  {
   "cell_type": "code",
   "execution_count": 4,
   "metadata": {},
   "outputs": [
    {
     "name": "stdout",
     "output_type": "stream",
     "text": [
      "0\n",
      "1\n",
      "2\n",
      "3\n",
      "4\n"
     ]
    }
   ],
   "source": [
    "for i in range(5):\n",
    "    print(i)"
   ]
  },
  {
   "cell_type": "markdown",
   "metadata": {},
   "source": [
    "The given endpoint is never part of the generated sequence. It is possible to let the range start at another number, or to specify a different increment (even negative; sometimes this is called the ‘step’)\n",
    "\n",
    "* range(5, 10) 5, 6, 7, 8, 9\n",
    "* range(0, 10, 3) 0, 3, 6, 9\n",
    "* range(-10, -100, -30) -10, -40, -70\n",
    "\n",
    "\n",
    "To iterate over the indices of a sequence, you can combine range()\n",
    "and len() as follows:\n"
   ]
  },
  {
   "cell_type": "code",
   "execution_count": 20,
   "metadata": {},
   "outputs": [
    {
     "name": "stdout",
     "output_type": "stream",
     "text": [
      "0 Mary\n",
      "1 Tom\n",
      "2 Chris\n",
      "3 Charles\n"
     ]
    }
   ],
   "source": [
    "names: list[str] = [\"Mary\", \"Tom\", \"Chris\", \"Charles\"]\n",
    "\n",
    "for i, name in enumerate(names):\n",
    "    print(i, name)"
   ]
  },
  {
   "cell_type": "markdown",
   "metadata": {},
   "source": [
    "### While Loop\n",
    "\n",
    "The while loop is used to iterate over a block of code as long as the condition is true.The while loop is used `when we do not know how many times to iterate`."
   ]
  },
  {
   "cell_type": "markdown",
   "metadata": {},
   "source": [
    "![while-loop](img/while_loop.png)"
   ]
  },
  {
   "cell_type": "code",
   "execution_count": 6,
   "metadata": {},
   "outputs": [
    {
     "name": "stdout",
     "output_type": "stream",
     "text": [
      "The sum is <built-in function sum>\n"
     ]
    }
   ],
   "source": [
    "n_: int = 10\n",
    "\n",
    "total_sum: int = 0\n",
    "\n",
    "i_: int = 1\n",
    "\n",
    "while i_ <= n_:\n",
    "    total_sum = total_sum + i_\n",
    "    i_ = i_ + 1\n",
    "print(\"The sum is\", sum)"
   ]
  },
  {
   "cell_type": "markdown",
   "metadata": {},
   "source": [
    "As long as the condition of while returns \"True\", the loop will run. And when it’s over, it goes to the next statement, which is print. The value of the counter variable needs to increase in the body of the loop. This is very important (and mostly forgotten). Failing to do so will result in an infinite loop (never-ending loop).\n",
    "\n",
    "\n",
    "Similar to the for loop, else block can optionally be used with while\n",
    "loop also. The usage is the same as for the for loop\n",
    "\n"
   ]
  },
  {
   "cell_type": "markdown",
   "metadata": {},
   "source": [
    "### Break and Continue\n",
    "\n",
    "\n",
    "#### Break Statement\n",
    "\n",
    "The break statement breaks out of the innermost enclosing for or while loop. it is executed when the loop terminates through exhaustion of the list (with for) or when the condition becomes false (with while), but not when the loop is terminated by a break statement.\n"
   ]
  },
  {
   "cell_type": "code",
   "execution_count": 7,
   "metadata": {},
   "outputs": [
    {
     "name": "stdout",
     "output_type": "stream",
     "text": [
      "1\n",
      "this line is outside the loop\n"
     ]
    }
   ],
   "source": [
    "list_number = [1, 2, 3, 4, 5]\n",
    "\n",
    "for i in list_number:\n",
    "    print(i)\n",
    "    break\n",
    "else:\n",
    "    print(\"this is end of the code ! \")\n",
    "\n",
    "print(\"this line is outside the loop\")"
   ]
  },
  {
   "cell_type": "code",
   "execution_count": 3,
   "metadata": {},
   "outputs": [
    {
     "name": "stdout",
     "output_type": "stream",
     "text": [
      "2 is а prime numЬer \n",
      "3 is а prime numЬer \n",
      "4  equals  2 * 2\n",
      "5 is а prime numЬer \n",
      "6  equals  2 * 3\n",
      "7 is а prime numЬer \n",
      "8  equals  2 * 4\n",
      "9  equals  3 * 3\n"
     ]
    }
   ],
   "source": [
    "for n_ in range(2, 10):\n",
    "    for x_ in range(2, n_):\n",
    "        if n_ % x_ == 0:\n",
    "            print(n_, \" equals \", x_, \"*\", n_ // x_)\n",
    "            break\n",
    "    else:\n",
    "        print(n_, \"is а prime numЬer \")"
   ]
  },
  {
   "cell_type": "markdown",
   "metadata": {},
   "source": [
    "#### Continue Operator\n",
    "\n",
    "The continue statement is used to skip the rest of the code inside a loop for the current iteration only. Loop does not terminate but continues with the next iteration."
   ]
  },
  {
   "cell_type": "markdown",
   "metadata": {},
   "source": [
    "![while-loop](img/continue_statement.png)"
   ]
  },
  {
   "cell_type": "code",
   "execution_count": 9,
   "metadata": {},
   "outputs": [
    {
     "name": "stdout",
     "output_type": "stream",
     "text": [
      "p\n",
      "y\n",
      "h\n",
      "o\n",
      "n\n",
      "The end\n"
     ]
    }
   ],
   "source": [
    "for alphabet in \"python\":\n",
    "    if alphabet == \"t\":\n",
    "        continue\n",
    "    print(alphabet)\n",
    "print(\"The end\")"
   ]
  },
  {
   "cell_type": "code",
   "execution_count": 10,
   "metadata": {},
   "outputs": [
    {
     "name": "stdout",
     "output_type": "stream",
     "text": [
      "Found an even nшnЬer 2\n",
      "Found а nшnЬer 3\n",
      "Found an even nшnЬer 4\n",
      "Found а nшnЬer 5\n",
      "Found an even nшnЬer 6\n",
      "Found а nшnЬer 7\n",
      "Found an even nшnЬer 8\n",
      "Found а nшnЬer 9\n"
     ]
    }
   ],
   "source": [
    "for num in range(2, 10):\n",
    "    if num % 2 == 0:  # четное число\n",
    "        print(\"Found an even nшnЬer\", num)\n",
    "        continue\n",
    "    print(\"Found а nшnЬer\", num)"
   ]
  },
  {
   "cell_type": "markdown",
   "metadata": {},
   "source": [
    "### Pass Operator\n",
    "\n",
    "The pass statement does nothing. It can be used when a statement is required syntactically but the program requires no action\n",
    "\n",
    "This is commonly used for creating minimal classes:\n",
    "* class MyEmptyClass: pass\n",
    "\n",
    "\n",
    "Another place pass can be used is as a place-holder for a function or\n",
    "conditional body when you are working on a new code, allowing you to\n",
    "keep thinking at a more abstract level. The pass is silently ignored:\n",
    "\n",
    "* def initlog(*args): pass "
   ]
  },
  {
   "cell_type": "markdown",
   "metadata": {},
   "source": [
    "### Summary \n",
    "\n",
    "In this chapter we learned how to control the flow of the code. Without the if statements or the loops, the codes can be only one directional. We saw how to break a loop, or how to conditionally continue the loop without falling out."
   ]
  },
  {
   "cell_type": "markdown",
   "metadata": {},
   "source": [
    "## Exercises:\n",
    "\n",
    "1. Code execute in the order in which it was written\n",
    "\n",
    "### True or False? \n",
    "\n",
    "1. False\n",
    "2. True\n",
    "3. False\n",
    "4. True\n",
    "5. True\n",
    "6. True\n",
    "7. True\n",
    "8. True\n",
    "9. False\n",
    "10. True\n"
   ]
  },
  {
   "cell_type": "markdown",
   "metadata": {},
   "source": [
    "1. A trader wants a program to check whether he made a profit or loss over a trade. Write the program where the input for buying and selling price is entered through keyboard input, and the program tells if the trader made a profit or loss. The program shall also calculate the profit or loss made."
   ]
  },
  {
   "cell_type": "code",
   "execution_count": 11,
   "metadata": {},
   "outputs": [
    {
     "name": "stdout",
     "output_type": "stream",
     "text": [
      "Your loss is 100.00\n"
     ]
    }
   ],
   "source": [
    "buy_price: float = float(input(\"Buy price\"))\n",
    "sell_price: float = float(input(\"Sell price\"))\n",
    "\n",
    "margin: float = sell_price - buy_price\n",
    "\n",
    "if margin > 0:\n",
    "    print(f\"Your profit is {margin}\")\n",
    "elif margin < 0:\n",
    "    print(f\"Your loss is {abs(margin):.2f}\")\n",
    "else:\n",
    "    print(\"Sorry no profit for you :(\")"
   ]
  },
  {
   "cell_type": "markdown",
   "metadata": {},
   "source": [
    "2. Write a program to check whether the year entered through the keyboard is a leap year or not"
   ]
  },
  {
   "cell_type": "code",
   "execution_count": 12,
   "metadata": {},
   "outputs": [
    {
     "name": "stdout",
     "output_type": "stream",
     "text": [
      "This is leap year\n"
     ]
    }
   ],
   "source": [
    "current_year: int = int(input(\"What's current year?\"))\n",
    "\n",
    "if current_year % 4 == 0 and current_year % 100 != 0:\n",
    "    print(\"This is leap year\")\n",
    "else:\n",
    "    print(\"Not a leap year\")"
   ]
  },
  {
   "cell_type": "markdown",
   "metadata": {},
   "source": [
    "3. Three employees Sameer, Pravin, and Mohit enter their years of experience through keyboard input. Write a program to determine the most and the least experienced among the three.\n",
    "\n"
   ]
  },
  {
   "cell_type": "code",
   "execution_count": 13,
   "metadata": {},
   "outputs": [
    {
     "name": "stdout",
     "output_type": "stream",
     "text": [
      "Mohit is most experienced\n"
     ]
    }
   ],
   "source": [
    "sameer_exp: int = int(input(\"What is your experience, Sameer?\"))\n",
    "pravin_exp: int = int(input(\"What is your experience, Pravin\"))\n",
    "mohit_exp: int = int(input(\"What is your experience, Mohit?\"))\n",
    "\n",
    "if sameer_exp > pravin_exp and sameer_exp > mohit_exp:\n",
    "    print(\"Sameer is most experienced\")\n",
    "elif pravin_exp > sameer_exp and pravin_exp > mohit_exp:\n",
    "    print(\"Pravin is most experienced\")\n",
    "else:\n",
    "    print(\"Mohit is most experienced\")"
   ]
  },
  {
   "cell_type": "markdown",
   "metadata": {},
   "source": [
    "4. A Sum of three angles inside a triangle is 180 degrees. Write a program to check if the shape is a triangle or not, when the three angles are given as input.\n"
   ]
  },
  {
   "cell_type": "code",
   "execution_count": 14,
   "metadata": {},
   "outputs": [
    {
     "name": "stdout",
     "output_type": "stream",
     "text": [
      "It's not triangle\n"
     ]
    }
   ],
   "source": [
    "first_angle: int = int(input(\"Write first angle\"))\n",
    "second_angle: int = int(input(\"Write second angle\"))\n",
    "third_angle: int = int(input(\"Write third angle\"))\n",
    "\n",
    "sum_of_angle: float = first_angle + second_angle + third_angle\n",
    "\n",
    "if sum_of_angle == 180:\n",
    "    print(\"It's triangle\")\n",
    "else:\n",
    "    print(\"It's not triangle\")"
   ]
  },
  {
   "cell_type": "markdown",
   "metadata": {},
   "source": [
    "5. When the three angles of a triangle are given, write a program to check if its a right angle triangle or not. (One angle must be 90 degrees) "
   ]
  },
  {
   "cell_type": "code",
   "execution_count": 15,
   "metadata": {},
   "outputs": [
    {
     "name": "stdout",
     "output_type": "stream",
     "text": [
      "It's not a right angle triangle.\n"
     ]
    }
   ],
   "source": [
    "angle_list = [first_angle, second_angle, third_angle]\n",
    "is_right_angle = False\n",
    "\n",
    "for i in angle_list:\n",
    "    if i == 90:\n",
    "        is_right_angle = True\n",
    "        break\n",
    "\n",
    "if is_right_angle:\n",
    "    print(\"It's a right angle triangle.\")\n",
    "else:\n",
    "    print(\"It's not a right angle triangle.\")"
   ]
  },
  {
   "cell_type": "markdown",
   "metadata": {},
   "source": [
    "6. Write the code to output multiplication table of any number given as input.\n"
   ]
  },
  {
   "cell_type": "code",
   "execution_count": 16,
   "metadata": {},
   "outputs": [
    {
     "name": "stdout",
     "output_type": "stream",
     "text": [
      "5 x 1 = 5\n",
      "5 x 2 = 10\n",
      "5 x 3 = 15\n",
      "5 x 4 = 20\n",
      "5 x 5 = 25\n",
      "5 x 6 = 30\n",
      "5 x 7 = 35\n",
      "5 x 8 = 40\n",
      "5 x 9 = 45\n",
      "5 x 10 = 50\n"
     ]
    }
   ],
   "source": [
    "multiply_number: int = int(input(\"Write your number to display multi table\"))\n",
    "for i in range(1, 11):\n",
    "    result = multiply_number * i\n",
    "    print(f\"{multiply_number} x {i} = {result}\")"
   ]
  },
  {
   "cell_type": "markdown",
   "metadata": {},
   "source": [
    "7. Write a program to print all prime numbers between 1 to 500"
   ]
  },
  {
   "cell_type": "code",
   "execution_count": 17,
   "metadata": {},
   "outputs": [
    {
     "name": "stdout",
     "output_type": "stream",
     "text": [
      "1\n",
      "3\n",
      "5\n",
      "7\n",
      "9\n",
      "11\n",
      "13\n",
      "15\n",
      "17\n",
      "19\n",
      "21\n",
      "23\n",
      "25\n",
      "27\n",
      "29\n",
      "31\n",
      "33\n",
      "35\n",
      "37\n",
      "39\n",
      "41\n",
      "43\n",
      "45\n",
      "47\n",
      "49\n",
      "51\n",
      "53\n",
      "55\n",
      "57\n",
      "59\n",
      "61\n",
      "63\n",
      "65\n",
      "67\n",
      "69\n",
      "71\n",
      "73\n",
      "75\n",
      "77\n",
      "79\n",
      "81\n",
      "83\n",
      "85\n",
      "87\n",
      "89\n",
      "91\n",
      "93\n",
      "95\n",
      "97\n",
      "99\n",
      "101\n",
      "103\n",
      "105\n",
      "107\n",
      "109\n",
      "111\n",
      "113\n",
      "115\n",
      "117\n",
      "119\n",
      "121\n",
      "123\n",
      "125\n",
      "127\n",
      "129\n",
      "131\n",
      "133\n",
      "135\n",
      "137\n",
      "139\n",
      "141\n",
      "143\n",
      "145\n",
      "147\n",
      "149\n",
      "151\n",
      "153\n",
      "155\n",
      "157\n",
      "159\n",
      "161\n",
      "163\n",
      "165\n",
      "167\n",
      "169\n",
      "171\n",
      "173\n",
      "175\n",
      "177\n",
      "179\n",
      "181\n",
      "183\n",
      "185\n",
      "187\n",
      "189\n",
      "191\n",
      "193\n",
      "195\n",
      "197\n",
      "199\n",
      "201\n",
      "203\n",
      "205\n",
      "207\n",
      "209\n",
      "211\n",
      "213\n",
      "215\n",
      "217\n",
      "219\n",
      "221\n",
      "223\n",
      "225\n",
      "227\n",
      "229\n",
      "231\n",
      "233\n",
      "235\n",
      "237\n",
      "239\n",
      "241\n",
      "243\n",
      "245\n",
      "247\n",
      "249\n",
      "251\n",
      "253\n",
      "255\n",
      "257\n",
      "259\n",
      "261\n",
      "263\n",
      "265\n",
      "267\n",
      "269\n",
      "271\n",
      "273\n",
      "275\n",
      "277\n",
      "279\n",
      "281\n",
      "283\n",
      "285\n",
      "287\n",
      "289\n",
      "291\n",
      "293\n",
      "295\n",
      "297\n",
      "299\n",
      "301\n",
      "303\n",
      "305\n",
      "307\n",
      "309\n",
      "311\n",
      "313\n",
      "315\n",
      "317\n",
      "319\n",
      "321\n",
      "323\n",
      "325\n",
      "327\n",
      "329\n",
      "331\n",
      "333\n",
      "335\n",
      "337\n",
      "339\n",
      "341\n",
      "343\n",
      "345\n",
      "347\n",
      "349\n",
      "351\n",
      "353\n",
      "355\n",
      "357\n",
      "359\n",
      "361\n",
      "363\n",
      "365\n",
      "367\n",
      "369\n",
      "371\n",
      "373\n",
      "375\n",
      "377\n",
      "379\n",
      "381\n",
      "383\n",
      "385\n",
      "387\n",
      "389\n",
      "391\n",
      "393\n",
      "395\n",
      "397\n",
      "399\n",
      "401\n",
      "403\n",
      "405\n",
      "407\n",
      "409\n",
      "411\n",
      "413\n",
      "415\n",
      "417\n",
      "419\n",
      "421\n",
      "423\n",
      "425\n",
      "427\n",
      "429\n",
      "431\n",
      "433\n",
      "435\n",
      "437\n",
      "439\n",
      "441\n",
      "443\n",
      "445\n",
      "447\n",
      "449\n",
      "451\n",
      "453\n",
      "455\n",
      "457\n",
      "459\n",
      "461\n",
      "463\n",
      "465\n",
      "467\n",
      "469\n",
      "471\n",
      "473\n",
      "475\n",
      "477\n",
      "479\n",
      "481\n",
      "483\n",
      "485\n",
      "487\n",
      "489\n",
      "491\n",
      "493\n",
      "495\n",
      "497\n",
      "499\n"
     ]
    }
   ],
   "source": [
    "for i in range(1, 501):\n",
    "    if i % 2 != 0:\n",
    "        print(i)"
   ]
  },
  {
   "cell_type": "markdown",
   "metadata": {},
   "source": [
    "8. Print all the multiples of 9, which are less than 300"
   ]
  },
  {
   "cell_type": "code",
   "execution_count": 18,
   "metadata": {},
   "outputs": [
    {
     "name": "stdout",
     "output_type": "stream",
     "text": [
      "9\n",
      "18\n",
      "27\n",
      "36\n",
      "45\n",
      "54\n",
      "63\n",
      "72\n",
      "81\n",
      "90\n",
      "99\n",
      "108\n",
      "117\n",
      "126\n",
      "135\n",
      "144\n",
      "153\n",
      "162\n",
      "171\n",
      "180\n",
      "189\n",
      "198\n",
      "207\n",
      "216\n",
      "225\n",
      "234\n",
      "243\n",
      "252\n",
      "261\n",
      "270\n",
      "279\n",
      "288\n",
      "297\n"
     ]
    }
   ],
   "source": [
    "for i in range(1, 301):\n",
    "    if i % 9 == 0:\n",
    "        print(i)"
   ]
  },
  {
   "cell_type": "markdown",
   "metadata": {},
   "source": [
    "9. A machine gives annual earning of Rs 2000 during its lifetime. It costs Rs.10000 and can be sold off for Rs. 2500 when it is discarded. If 8 percent per annum can be earned if the same amount is invested in some alternate investment, what would be the minimum life of the machine to make it a more attractive investment compared to alternative investment?"
   ]
  },
  {
   "cell_type": "code",
   "execution_count": 19,
   "metadata": {},
   "outputs": [
    {
     "name": "stdout",
     "output_type": "stream",
     "text": [
      "Minimum service life of the machine: 9 years\n"
     ]
    }
   ],
   "source": [
    "car_price: int = 1000000\n",
    "resale_price: int = 250000\n",
    "annual_income: int = 200000\n",
    "rate: float = 0.08\n",
    "n_value: int = 0\n",
    "\n",
    "while True:\n",
    "\n",
    "    car_income: int = annual_income * n_value + resale_price\n",
    "\n",
    "    investment_income: float = car_price * (1 + rate) ** n_value\n",
    "\n",
    "    if car_income > investment_income:\n",
    "        break\n",
    "\n",
    "    n_value += 1\n",
    "\n",
    "print(f\"Minimum service life of the machine: {n_value} years\")"
   ]
  }
 ],
 "metadata": {
  "kernelspec": {
   "display_name": "base",
   "language": "python",
   "name": "python3"
  },
  "language_info": {
   "codemirror_mode": {
    "name": "ipython",
    "version": 3
   },
   "file_extension": ".py",
   "mimetype": "text/x-python",
   "name": "python",
   "nbconvert_exporter": "python",
   "pygments_lexer": "ipython3",
   "version": "3.10.9"
  }
 },
 "nbformat": 4,
 "nbformat_minor": 2
}
