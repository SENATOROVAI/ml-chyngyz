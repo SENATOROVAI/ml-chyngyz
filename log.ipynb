{
 "cells": [
  {
   "cell_type": "code",
   "execution_count": 1,
   "metadata": {},
   "outputs": [
    {
     "data": {
      "text/plain": [
       "'Detailed description of the new knowledge gained on a certain date.'"
      ]
     },
     "execution_count": 1,
     "metadata": {},
     "output_type": "execute_result"
    }
   ],
   "source": [
    "\"\"\"Detailed description of the new knowledge gained on a certain date.\"\"\""
   ]
  },
  {
   "cell_type": "markdown",
   "metadata": {},
   "source": [
    "##### 31.07.2024\n",
    "\n",
    "1. Installed git\n",
    "2. Installed gitDesktop.\n",
    "3. Installed new extensions for VsCode.\n",
    "4. Learned how to use git.\n",
    "5. Set up VsCode.\n",
    "6. Got Contributor status in kaggle.\n",
    "7. Learned how to upload notebook to kaggle.\n"
   ]
  },
  {
   "cell_type": "markdown",
   "metadata": {},
   "source": [
    "##### 01.08.2024\n",
    "1. Customized my Github profile.\n",
    "2. Have read \"Clean code\" 85-95 pages, learned about how to give names in Python.\n",
    "3. Created new folder (clean-code) in Python folder, for future notes about \"Clean code\" book"
   ]
  },
  {
   "cell_type": "markdown",
   "metadata": {},
   "source": [
    "##### 05.08.2024\n",
    "\n",
    "1. Have learned about Sets.\n",
    "2. Sets are an organized collection of objects.\n",
    "3. Standard sets are: \n",
    "    \n",
    "    N - natural numbers {1,2,3 ...}\n",
    "\n",
    "    N+ - whole numbers {0,1,2 ...}\n",
    "\n",
    "    Z - integers {-1,2-,0 ...}\n",
    "\n",
    "    Q - rational numbers {1/2, -1/5 ...}\n",
    "\n",
    "    I - irrational numbers {P, e ...}\n",
    "\n",
    "    R - real numbers {R = N U Z U Q U I}\n",
    "\n",
    "4. Complex numbers - imaginary like i, etc.\n",
    "5. Set symbols:\n",
    "    {} - symbol of set\n",
    "\n",
    "    U - universal set\n",
    "    \n",
    "    n(X) - cardinal number of set X\n",
    "\n",
    "    b ∈ A - 'b' is and element of set A\n",
    "\n",
    "    a ∉ B - 'a' is not an element of set B\n",
    "\n",
    "    ∅ - empty set\n",
    "\n",
    "    A U B - set A union set B\n",
    "\n",
    "    A ∩ B - set A intersection set B\n",
    "\n",
    "    A ⊆ B - set A is a subset of set B\n",
    "    \n",
    "    B ⊇ A - Set B is the superset"
   ]
  },
  {
   "cell_type": "markdown",
   "metadata": {},
   "source": [
    "##### 07.08.2024\n",
    "\n",
    "1. Rewrote hw file, made more readable\n",
    "2. Read chapter-1-made-easy\n",
    "3. Wrote notes about first chapter and made practice exercises\n",
    "4. Assigned deadlines for Math books"
   ]
  },
  {
   "cell_type": "markdown",
   "metadata": {},
   "source": [
    "##### 12.08.2024\n",
    "\n",
    "1. Repeated operations with sets.\n",
    "2. Learned about images of sets.\n",
    "3. Learned about A bijection, bijective function.\n",
    "4. Learned about functions in math"
   ]
  },
  {
   "cell_type": "markdown",
   "metadata": {},
   "source": [
    "##### 13.08.2024\n",
    "\n",
    "1. Read chapter-2-made-easy\n",
    "2. Wrote notes about second chapter and made exercises"
   ]
  },
  {
   "cell_type": "markdown",
   "metadata": {},
   "source": [
    "##### 14.08.2024\n",
    "\n",
    "1. Повторили область определения и значения функций.\n",
    "2. Изучили обратное отображение.\n",
    "3. Изучили композицию отображения.\n",
    "4. Повторили понятие биекции. "
   ]
  },
  {
   "cell_type": "markdown",
   "metadata": {},
   "source": [
    "##### 19.08.2024\n",
    "\n",
    "1. Изучили разницу между общим случаем и частным.\n",
    "2. Изучили основы мат логики.\n",
    "3. Повторили кванторы\n",
    "4. Изучили правильное написание высказываний\n",
    "5. Изучили основу логических операций."
   ]
  },
  {
   "cell_type": "markdown",
   "metadata": {},
   "source": [
    "#### 26.08.2024\n",
    "\n",
    "1. Изучили новые виды функций.\n",
    "2. Разобрали что такое четные и не четные функции\n",
    "3. Повторили свойства степеней"
   ]
  },
  {
   "cell_type": "markdown",
   "metadata": {},
   "source": [
    "#### 29.08.2024\n",
    "\n",
    "1. Изучили тригонометрические функции.\n",
    "2. Узнали что такое численные методы.\n",
    "3. Изучили числовые ряды.\n",
    "4. Поверхностно дали понятие методу наименьших квадратов.\n",
    "5. Повторили ряд Тейлора"
   ]
  },
  {
   "cell_type": "markdown",
   "metadata": {},
   "source": [
    "#### 05.09.2024\n",
    "\n",
    "1. Изучили числовую последовательность.\n",
    "2. Изучили как задается числовая последовательность.\n",
    "3. Дали определение формуле `общего члена` и `рекуррентному` способу.\n",
    "4. Дали определение `постоянной` последовательности.\n",
    "5. Дали определение `ограниченной` последовательности.\n",
    "6. Дали определение `неограниченной` последовательности.\n",
    "7. Ввели понятие `эпсилон`.\n",
    "8. Ввели понятие `эпсилон окрестности`.\n",
    "9. Изучили кто ввел понятие эпсилона окрестности. `Коши`."
   ]
  },
  {
   "cell_type": "markdown",
   "metadata": {},
   "source": [
    "#### 09.09.2024\n",
    "\n",
    "1. Раскрыли тему эпсилона окрестности.\n",
    "2. Разобрали и полностью раскрыли определение введенное Коши.\n",
    "3. Изучили понятие предела.\n",
    "4. Изучили как решать задачи с пределами.\n",
    "5. Определили основные свойства последовательности.\n",
    "6. Решили пару задач по пределам.\n"
   ]
  },
  {
   "cell_type": "markdown",
   "metadata": {},
   "source": [
    "#### 09.23.2024\n",
    "\n",
    "1. Повторили пределы последовательностей\n",
    "2. Разобрали дз по пределам\n",
    "3. Прошли предел функций.\n",
    "4. Прошли пределы с неопределенностью вида 0/0"
   ]
  },
  {
   "cell_type": "markdown",
   "metadata": {},
   "source": [
    "#### 10.07.2024\n",
    "\n",
    "1. Повторили предел последовательностей\n",
    "2. Повторили предел функций\n",
    "3. Изучили предел функции по Коши и  Гейне\n",
    "4. Изучили геометрический смысл предела\n",
    "5. Дали понятие дельты окрестности"
   ]
  },
  {
   "cell_type": "markdown",
   "metadata": {},
   "source": [
    "### 10.16.2024\n",
    "\n",
    "1. Прошли новую тему: Непрерывность функции. Точки разрыва\n",
    "2. Непрерывность функции в точке и на интервале.\n",
    "3. Прошли односторонние пределы\n",
    "4. Прошли понятия точки разрыва и их классификацию\n",
    "5. Точки разрыва первого рода, первого рода со скачком, второго рода."
   ]
  }
 ],
 "metadata": {
  "kernelspec": {
   "display_name": "base",
   "language": "python",
   "name": "python3"
  },
  "language_info": {
   "codemirror_mode": {
    "name": "ipython",
    "version": 3
   },
   "file_extension": ".py",
   "mimetype": "text/x-python",
   "name": "python",
   "nbconvert_exporter": "python",
   "pygments_lexer": "ipython3",
   "version": "3.10.9"
  }
 },
 "nbformat": 4,
 "nbformat_minor": 2
}
